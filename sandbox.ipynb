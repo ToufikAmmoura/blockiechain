{
 "cells": [
  {
   "cell_type": "markdown",
   "metadata": {},
   "source": [
    "# python play"
   ]
  },
  {
   "cell_type": "code",
   "execution_count": 1,
   "metadata": {},
   "outputs": [
    {
     "name": "stdout",
     "output_type": "stream",
     "text": [
      "1 a\n",
      "2 a\n",
      "3 a\n",
      "4 a\n",
      "5 a\n"
     ]
    }
   ],
   "source": [
    "for x in [1,2,3,4,5]: # transactions\n",
    "    for y in \"abcde\": # txins\n",
    "        if y == \"b\":\n",
    "            break\n",
    "        print(x, y)"
   ]
  },
  {
   "cell_type": "markdown",
   "metadata": {},
   "source": [
    "# trying out signatures"
   ]
  },
  {
   "cell_type": "code",
   "execution_count": 2,
   "metadata": {},
   "outputs": [
    {
     "name": "stdout",
     "output_type": "stream",
     "text": [
      "The message is authentic.\n"
     ]
    },
    {
     "data": {
      "text/plain": [
       "EccKey(curve='NIST P-256', point_x=103453144897129876028431839281207158881217355283164051232698293403272003163452, point_y=17366669826185541975373305218931516834010948857231229883604105416639207612833)"
      ]
     },
     "execution_count": 2,
     "metadata": {},
     "output_type": "execute_result"
    }
   ],
   "source": [
    "from Crypto.PublicKey import ECC\n",
    "from Crypto.Hash import SHA256\n",
    "from Crypto.Signature import DSS\n",
    "\n",
    "def make_keypair():\n",
    "    privkey = ECC.generate(curve='P-256')\n",
    "    pubkey = privkey.public_key()\n",
    "    return privkey, pubkey \n",
    "\n",
    "def make_key(hex):\n",
    "    key = ECC.import_key(bytes.fromhex(hex))\n",
    "    return key\n",
    "\n",
    "def make_hex_key(key):\n",
    "    binary = key.public_key().export_key(format='DER')\n",
    "    return binary.hex()\n",
    "\n",
    "def sign_something(priv_key, something):\n",
    "    signer = DSS.new(priv_key, 'fips-186-3')\n",
    "    h = SHA256.new(something)\n",
    "    signature = signer.sign(h)\n",
    "    return signature.hex()\n",
    "\n",
    "def verify_signature(pub_key, something, signature):\n",
    "    h = SHA256.new(something)\n",
    "    verifier = DSS.new(pub_key, 'fips-186-3')\n",
    "    try:\n",
    "        verifier.verify(h, signature)\n",
    "        print (\"The message is authentic.\")\n",
    "    except ValueError:\n",
    "        print (\"The message is not authentic.\")\n",
    "\n",
    "priv_key, pub_key = make_keypair()\n",
    "priv_key2, pub_key2 = make_keypair()\n",
    "\n",
    "# print(pub_key)\n",
    "\n",
    "message = b'I accept this'\n",
    "signature = sign_something(priv_key, message)\n",
    "bitas = bytes.fromhex(signature)\n",
    "verify_signature(pub_key, message, bitas)\n",
    "\n",
    "hexkey = make_hex_key(pub_key)\n",
    "\n",
    "make_key(hexkey)\n",
    "\n",
    "priv_key.public_key()"
   ]
  },
  {
   "cell_type": "markdown",
   "metadata": {},
   "source": [
    "# trying out transactions"
   ]
  },
  {
   "cell_type": "code",
   "execution_count": 3,
   "metadata": {},
   "outputs": [
    {
     "name": "stdout",
     "output_type": "stream",
     "text": [
      "The message is authentic.\n"
     ]
    }
   ],
   "source": [
    "from transaction import Transaction, TxIn, TxOut\n",
    "\n",
    "COINBASE_AMOUNT = 20\n",
    "\n",
    "bob_addr = \"bob123\"\n",
    "alice_addr = \"alice321\"\n",
    "bob_privkey, bob_pubkey = make_keypair()\n",
    "\n",
    "# f = open('privatekey.der', 'wt')\n",
    "# f.write(bob_privkey.export_key(format='DER').hex())\n",
    "# f.close()\n",
    "\n",
    "# Coinbase transaction to Bob\n",
    "coinbase_in = TxIn(\"\", 0, \"\")\n",
    "coinbase_out = TxOut(bob_addr, COINBASE_AMOUNT)\n",
    "coinbase_transaction = Transaction([coinbase_in], [coinbase_out])\n",
    "\n",
    "# Bob's gift to Alice\n",
    "bob_in = TxIn(coinbase_transaction.id, 0, \"\")\n",
    "bob_out1 = TxOut(alice_addr, 10)\n",
    "bob_out2 = TxOut(bob_addr, 10)\n",
    "bobs_gift_transaction = Transaction([bob_in], [bob_out1, bob_out2])\n",
    "\n",
    "unsignedTxIns = bobs_gift_transaction.txins\n",
    "for uTxIn in unsignedTxIns:\n",
    "    signature = sign_something(bob_privkey, bobs_gift_transaction.id.encode())\n",
    "    uTxIn.signature = signature\n",
    "\n",
    "# Verifying that thing is signed\n",
    "signa = bytes.fromhex(unsignedTxIns[0].signature)\n",
    "verify_signature(bob_pubkey, bobs_gift_transaction.id.encode(), signa)"
   ]
  },
  {
   "cell_type": "markdown",
   "metadata": {},
   "source": [
    "# full-node toy model \n",
    "\n",
    "todos:\n",
    "- transaction maken\n",
    "- block minen\n",
    "- blockchain checken"
   ]
  },
  {
   "cell_type": "code",
   "execution_count": 29,
   "metadata": {},
   "outputs": [
    {
     "name": "stdout",
     "output_type": "stream",
     "text": [
      "wallet already exists\n",
      "wallet already exists\n"
     ]
    },
    {
     "data": {
      "text/plain": [
       "{'index': 1, 'hash': '00000430da7eecbdd7997dfe7570cf4fd1f43cb5e05bbc73deb1bb112bde7451', 'previous_hash': '0000607e58623c07e2634999e38638e13b76af5b450cd7a295bc60179e6db208', 'timestamp': 1641142061.3947933, 'proof': 82682, 'data': [{'txins': [{'txout_id': '', 'txout_index': 1, 'signature': ''}], 'txouts': [{'address': '3059301306072a8648ce3d020106082a8648ce3d03010703420004ae1b936f141d4b37355897e82f86afe219e0c2dce78f040954a9ace5d6cbeeb8277ea923e75f1ed234b22286d43c9134689f53a90662465b531436adf0be2484', 'amount': 50}], 'id': '746ccd31d2b4782d81b2d71a4f93f657d082c294d6d33ed7a8c05cd3d150a9a0'}]}"
      ]
     },
     "execution_count": 29,
     "metadata": {},
     "output_type": "execute_result"
    }
   ],
   "source": [
    "from blockchain import *\n",
    "from transaction import *\n",
    "from wallet import *\n",
    "from transaction_pool import *\n",
    "\n",
    "\"\"\"\n",
    "helper functions\n",
    "\"\"\"\n",
    "# def make_transaction():\n",
    "\n",
    "\n",
    "\n",
    "\n",
    "\"\"\"\n",
    "the toy model\n",
    "\"\"\"\n",
    "\n",
    "# maak mijn wallet aan\n",
    "toufik_wallet = 'toufiks-wallet'\n",
    "init_wallet(toufik_wallet)\n",
    "tfk_priv_key = get_key_from_wallet(toufik_wallet)\n",
    "tfk_pub_key = tfk_priv_key.public_key()\n",
    "tfk_address = get_hex_from_key(tfk_pub_key)\n",
    "\n",
    "# maak een wallet aan voor Bob\n",
    "bob_wallet = 'bobs-wallet'\n",
    "init_wallet(bob_wallet)\n",
    "bob_priv_key = get_key_from_wallet(bob_wallet)\n",
    "bob_pub_key = bob_priv_key.public_key()\n",
    "bob_address = get_hex_from_key(bob_pub_key)\n",
    "\n",
    "\n",
    "# maak de blockchain aan\n",
    "blockchain = Blockchain()\n",
    "\n",
    "# maak de unspent transactions list\n",
    "unspent_txouts = process_transactions(blockchain.chain[0].data, [], 0)\n",
    "\n",
    "# mine een block\n",
    "coinbase = get_coinbase_transaction(tfk_address, len(blockchain.chain))\n",
    "transactions = [coinbase]\n",
    "blockchain.generate_new_block(transactions)\n",
    "\n",
    "# maak een transaction\n",
    "\n",
    "# mine een block"
   ]
  }
 ],
 "metadata": {
  "interpreter": {
   "hash": "916dbcbb3f70747c44a77c7bcd40155683ae19c65e1c03b4aa3499c5328201f1"
  },
  "kernelspec": {
   "display_name": "Python 3.8.10 64-bit",
   "language": "python",
   "name": "python3"
  },
  "language_info": {
   "codemirror_mode": {
    "name": "ipython",
    "version": 3
   },
   "file_extension": ".py",
   "mimetype": "text/x-python",
   "name": "python",
   "nbconvert_exporter": "python",
   "pygments_lexer": "ipython3",
   "version": "3.8.10"
  },
  "orig_nbformat": 4
 },
 "nbformat": 4,
 "nbformat_minor": 2
}
