{
 "cells": [
  {
   "cell_type": "code",
   "execution_count": 16,
   "metadata": {},
   "outputs": [],
   "source": [
    "from cryptography.hazmat.primitives.asymmetric import rsa\n",
    "from cryptography.hazmat.primitives import hashes\n",
    "from cryptography.hazmat.primitives.asymmetric import padding\n",
    "\n",
    "def makeKeyPair():\n",
    "    private_key = rsa.generate_private_key(\n",
    "    public_exponent=65537,\n",
    "    key_size=2048,\n",
    "    )\n",
    "\n",
    "    public_key = private_key.public_key()\n",
    "\n",
    "    return private_key, public_key\n",
    "\n",
    "def signSomething(private_key, something):\n",
    "    signature = private_key.sign(\n",
    "        something,\n",
    "        padding.PSS(\n",
    "            mgf=padding.MGF1(hashes.SHA256()),\n",
    "            salt_length=padding.PSS.MAX_LENGTH\n",
    "        ),\n",
    "        hashes.SHA256()\n",
    "    )\n",
    "    \n",
    "    return signature\n",
    "\n",
    "def verifySomething(public_key, signature, something):\n",
    "    try:\n",
    "        public_key.verify(\n",
    "            signature,\n",
    "            something,\n",
    "            padding.PSS(\n",
    "                mgf=padding.MGF1(hashes.SHA256()),\n",
    "                salt_length=padding.PSS.MAX_LENGTH\n",
    "            ),\n",
    "            hashes.SHA256()\n",
    "        )\n",
    "    except:\n",
    "        print(\"Invalid Signature\")\n"
   ]
  },
  {
   "cell_type": "code",
   "execution_count": 20,
   "metadata": {},
   "outputs": [],
   "source": [
    "# making the key pairs\n",
    "privkey, pubkey = makeKeyPair()\n",
    "privkey2, pubkey2 = makeKeyPair()\n",
    "\n",
    "# signing a message with the private key\n",
    "message = b\"A message I want to sign\"\n",
    "signature = signSomething(privkey2, message)\n",
    "\n",
    "# verifying it\n",
    "verifySomething(pubkey2, signature, message)"
   ]
  }
 ],
 "metadata": {
  "interpreter": {
   "hash": "916dbcbb3f70747c44a77c7bcd40155683ae19c65e1c03b4aa3499c5328201f1"
  },
  "kernelspec": {
   "display_name": "Python 3.8.10 64-bit",
   "language": "python",
   "name": "python3"
  },
  "language_info": {
   "codemirror_mode": {
    "name": "ipython",
    "version": 3
   },
   "file_extension": ".py",
   "mimetype": "text/x-python",
   "name": "python",
   "nbconvert_exporter": "python",
   "pygments_lexer": "ipython3",
   "version": "3.8.10"
  },
  "orig_nbformat": 4
 },
 "nbformat": 4,
 "nbformat_minor": 2
}
