{
 "cells": [
  {
   "cell_type": "code",
   "execution_count": 2,
   "metadata": {},
   "outputs": [],
   "source": [
    "from blockchain import Blockchain, Block\n",
    "\n",
    "blockchain = Blockchain()\n",
    "\n",
    "genesis = blockchain.chain[0]\n",
    "b = blockchain.generate_new_block()\n",
    "# print(genesis.__dict__, \"\\n\\n\")\n",
    "# print(b.__dict__)"
   ]
  },
  {
   "cell_type": "markdown",
   "metadata": {},
   "source": [
    "# trying out signatures"
   ]
  },
  {
   "cell_type": "code",
   "execution_count": 18,
   "metadata": {},
   "outputs": [],
   "source": [
    "from Crypto.PublicKey import ECC\n",
    "from Crypto.Hash import SHA256\n",
    "from Crypto.Signature import DSS\n",
    "\n",
    "key = ECC.generate(curve='P-256')\n",
    "thebinary = key.export_key(format='DER')\n",
    "\n",
    "message = b\"I give permission\"\n",
    "h = SHA256.new(message)\n",
    "signer = DSS.new(key, 'fips-186-3')\n",
    "signature = signer.sign(h)"
   ]
  },
  {
   "cell_type": "code",
   "execution_count": 19,
   "metadata": {},
   "outputs": [
    {
     "name": "stdout",
     "output_type": "stream",
     "text": [
      "The message is authentic.\n"
     ]
    }
   ],
   "source": [
    "verifier = DSS.new(key, 'fips-186-3')\n",
    "try:\n",
    "    verifier.verify(h, signature)\n",
    "    print (\"The message is authentic.\")\n",
    "except ValueError:\n",
    "    print (\"The message is not authentic.\")"
   ]
  },
  {
   "cell_type": "markdown",
   "metadata": {},
   "source": [
    "# trying out transactions"
   ]
  },
  {
   "cell_type": "code",
   "execution_count": 12,
   "metadata": {},
   "outputs": [],
   "source": [
    "from transaction import Transaction, TxIn, TxOut\n",
    "\n",
    "COINBASE_AMOUNT = 20\n",
    "\n",
    "bob_addr = \"bob123\"\n",
    "alice_addr = \"alice321\"\n",
    "# bob_privkey, bob_pubkey = makeKeyPair()\n",
    "\n",
    "# Coinbase transaction to Bob\n",
    "coinbase_in = TxIn(\"\", 0, \"\")\n",
    "coinbase_out = TxOut(bob_addr, COINBASE_AMOUNT)\n",
    "coinbase_transaction = Transaction([coinbase_in], [coinbase_out])\n",
    "\n",
    "# Bob's gift to Alice\n",
    "bob_in = TxIn(coinbase_transaction.id, 0, \"\")\n",
    "bob_out1 = TxOut(alice_addr, 10)\n",
    "bob_out2 = TxOut(bob_addr, 10)\n",
    "bobs_gift_transaction = Transaction([bob_in], [bob_out1, bob_out2])\n",
    "\n",
    "unsignedTxIns = bobs_gift_transaction.txIns\n",
    "# for uTxIn in unsignedTxIns:\n",
    "    # signature = signSomething(bob_privkey, bobs_gift_transaction.id.encode())\n",
    "    # uTxIn.signature = signature\n",
    "\n",
    "# Verifying that thing is signed\n"
   ]
  },
  {
   "cell_type": "code",
   "execution_count": 165,
   "metadata": {},
   "outputs": [
    {
     "name": "stdout",
     "output_type": "stream",
     "text": [
      "MFwwDQYJKoZIhvcNAQEBBQADSwAwSAJBANJITAWvGK94NuTl33bydUsEKxQlMATJEzduhuo+d9wR+PNiiz2SQeIorslQYCCE66l7JL8vmX00eugEn8bfQZcCAwEAAQ==\n"
     ]
    },
    {
     "data": {
      "text/plain": [
       "'3048024100d2484c05af18af7836e4e5df76f2754b042b14253004c913376e86ea3e77dc11f8f3628b3d9241e228aec950602084eba97b24bf2f997d347ae8049fc6df41970203010001'"
      ]
     },
     "execution_count": 165,
     "metadata": {},
     "output_type": "execute_result"
    }
   ],
   "source": [
    "# TODO\n",
    "# hoe sla ik keys op\n",
    "# wil de keys in string format hebben\n",
    "\n",
    "\n",
    "pem = bob_pubkey.public_bytes(\n",
    "        encoding=serialization.Encoding.PEM,\n",
    "        format=serialization.PublicFormat.SubjectPublicKeyInfo\n",
    "        )\n",
    "\n",
    "pub_key_bytes = pem.splitlines()[1:-1]\n",
    "pub_key_str = [x.decode() for x in pub_key_bytes] \n",
    "pub_key = \"\".join(pub_key_str)\n",
    "print(pub_key)\n",
    "\n",
    "pem2 = bob_pubkey.public_bytes(\n",
    "        encoding=serialization.Encoding.DER,\n",
    "        format=serialization.PublicFormat.PKCS1\n",
    "        )\n",
    "\n",
    "pem2.hex()"
   ]
  }
 ],
 "metadata": {
  "interpreter": {
   "hash": "916dbcbb3f70747c44a77c7bcd40155683ae19c65e1c03b4aa3499c5328201f1"
  },
  "kernelspec": {
   "display_name": "Python 3.8.10 64-bit",
   "language": "python",
   "name": "python3"
  },
  "language_info": {
   "codemirror_mode": {
    "name": "ipython",
    "version": 3
   },
   "file_extension": ".py",
   "mimetype": "text/x-python",
   "name": "python",
   "nbconvert_exporter": "python",
   "pygments_lexer": "ipython3",
   "version": "3.8.10"
  },
  "orig_nbformat": 4
 },
 "nbformat": 4,
 "nbformat_minor": 2
}
