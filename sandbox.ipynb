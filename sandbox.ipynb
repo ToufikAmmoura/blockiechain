{
 "cells": [
  {
   "cell_type": "markdown",
   "metadata": {},
   "source": [
    "# trying out signatures"
   ]
  },
  {
   "cell_type": "code",
   "execution_count": 1,
   "metadata": {},
   "outputs": [
    {
     "name": "stdout",
     "output_type": "stream",
     "text": [
      "The message is authentic.\n"
     ]
    },
    {
     "data": {
      "text/plain": [
       "'3059301306072a8648ce3d020106082a8648ce3d03010703420004f2e282c65c5ca62f3515526822376748662fc5baad5df500ead3926536142feb92494b03cad28e72ee265bbf2502ec902ef052892380794fca1f05213efc0109'"
      ]
     },
     "execution_count": 1,
     "metadata": {},
     "output_type": "execute_result"
    }
   ],
   "source": [
    "from Crypto.PublicKey import ECC\n",
    "from Crypto.Hash import SHA256\n",
    "from Crypto.Signature import DSS\n",
    "\n",
    "def make_keypair():\n",
    "    privkey = ECC.generate(curve='P-256')\n",
    "    pubkey = privkey.public_key()\n",
    "    return privkey, pubkey \n",
    "\n",
    "def make_hex_key(key):\n",
    "    binary = key.public_key().export_key(format='DER')\n",
    "    return binary.hex()\n",
    "\n",
    "def sign_something(priv_key, something):\n",
    "    signer = DSS.new(priv_key, 'fips-186-3')\n",
    "    h = SHA256.new(something)\n",
    "    signature = signer.sign(h)\n",
    "    return signature.hex()\n",
    "\n",
    "def verify_signature(pub_key, something, signature):\n",
    "    h = SHA256.new(something)\n",
    "    verifier = DSS.new(pub_key, 'fips-186-3')\n",
    "    try:\n",
    "        verifier.verify(h, signature)\n",
    "        print (\"The message is authentic.\")\n",
    "    except ValueError:\n",
    "        print (\"The message is not authentic.\")\n",
    "\n",
    "priv_key, pub_key = make_keypair()\n",
    "priv_key2, pub_key2 = make_keypair()\n",
    "\n",
    "message = b'I accept this'\n",
    "signature = sign_something(priv_key, message)\n",
    "bitas = bytes.fromhex(signature)\n",
    "verify_signature(pub_key, message, bitas)\n",
    "\n",
    "hexkey = make_hex_key(pub_key)\n",
    "hexkey"
   ]
  },
  {
   "cell_type": "markdown",
   "metadata": {},
   "source": [
    "# trying out transactions"
   ]
  },
  {
   "cell_type": "code",
   "execution_count": 2,
   "metadata": {},
   "outputs": [
    {
     "name": "stdout",
     "output_type": "stream",
     "text": [
      "The message is authentic.\n"
     ]
    }
   ],
   "source": [
    "from transaction import Transaction, TxIn, TxOut\n",
    "\n",
    "COINBASE_AMOUNT = 20\n",
    "\n",
    "bob_addr = \"bob123\"\n",
    "alice_addr = \"alice321\"\n",
    "bob_privkey, bob_pubkey = make_keypair()\n",
    "\n",
    "# f = open('privatekey.der', 'wt')\n",
    "# f.write(bob_privkey.export_key(format='DER').hex())\n",
    "# f.close()\n",
    "\n",
    "# Coinbase transaction to Bob\n",
    "coinbase_in = TxIn(\"\", 0, \"\")\n",
    "coinbase_out = TxOut(bob_addr, COINBASE_AMOUNT)\n",
    "coinbase_transaction = Transaction([coinbase_in], [coinbase_out])\n",
    "\n",
    "# Bob's gift to Alice\n",
    "bob_in = TxIn(coinbase_transaction.id, 0, \"\")\n",
    "bob_out1 = TxOut(alice_addr, 10)\n",
    "bob_out2 = TxOut(bob_addr, 10)\n",
    "bobs_gift_transaction = Transaction([bob_in], [bob_out1, bob_out2])\n",
    "\n",
    "unsignedTxIns = bobs_gift_transaction.txIns\n",
    "for uTxIn in unsignedTxIns:\n",
    "    signature = sign_something(bob_privkey, bobs_gift_transaction.id.encode())\n",
    "    uTxIn.signature = signature\n",
    "\n",
    "# Verifying that thing is signed\n",
    "signa = bytes.fromhex(unsignedTxIns[0].signature)\n",
    "verify_signature(bob_pubkey, bobs_gift_transaction.id.encode(), signa)"
   ]
  },
  {
   "cell_type": "markdown",
   "metadata": {},
   "source": [
    "# blockchain node toy model "
   ]
  },
  {
   "cell_type": "code",
   "execution_count": 3,
   "metadata": {},
   "outputs": [
    {
     "data": {
      "text/plain": [
       "[{'txOutId': '9b77747f8cddb3e78b32c75cbcfe6cccf4544a4fc5886409b02865e09db21875', 'txOutIndex': 0, 'address': '3059301306072a8648ce3d020106082a8648ce3d0301070342000447e45d57be90ac1ad97c5232f7922ade8e63f9931666f1fab5f1bcaac0bdc4b83bf68c72534eb33b68865b5e5465c7ba46094961b578513aed09ed22ab8c03f3', 'amount': 50}]"
      ]
     },
     "execution_count": 3,
     "metadata": {},
     "output_type": "execute_result"
    }
   ],
   "source": [
    "from blockchain import Blockchain, Block\n",
    "from transaction import *\n",
    "\n",
    "blockchain = Blockchain()\n",
    "unspent_txouts = []\n",
    "\n",
    "block_transactions = blockchain.last_block.data\n",
    "\n",
    "unspent_txouts = update_unspent_txouts(block_transactions, unspent_txouts)\n",
    "\n",
    "unspent_txouts"
   ]
  }
 ],
 "metadata": {
  "interpreter": {
   "hash": "916dbcbb3f70747c44a77c7bcd40155683ae19c65e1c03b4aa3499c5328201f1"
  },
  "kernelspec": {
   "display_name": "Python 3.8.10 64-bit",
   "language": "python",
   "name": "python3"
  },
  "language_info": {
   "codemirror_mode": {
    "name": "ipython",
    "version": 3
   },
   "file_extension": ".py",
   "mimetype": "text/x-python",
   "name": "python",
   "nbconvert_exporter": "python",
   "pygments_lexer": "ipython3",
   "version": "3.8.10"
  },
  "orig_nbformat": 4
 },
 "nbformat": 4,
 "nbformat_minor": 2
}
