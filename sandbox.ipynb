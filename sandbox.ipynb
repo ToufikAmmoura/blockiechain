{
 "cells": [
  {
   "cell_type": "code",
   "execution_count": 60,
   "metadata": {},
   "outputs": [
    {
     "name": "stdout",
     "output_type": "stream",
     "text": [
      "{'index': 0, 'hash': '0000607e58623c07e2634999e38638e13b76af5b450cd7a295bc60179e6db208', 'previous_hash': '', 'timestamp': 'inthebeninging', 'proof': 33} \n",
      "\n",
      "\n",
      "{'index': 1, 'hash': '0000cd8127636708fa10c167d0b62d0dd428cec66b32e2e2c2c74efd466d154f', 'previous_hash': '0000607e58623c07e2634999e38638e13b76af5b450cd7a295bc60179e6db208', 'timestamp': 1639514663.2652752, 'proof': 36785}\n"
     ]
    }
   ],
   "source": [
    "from blockchain import Blockchain, Block\n",
    "\n",
    "blockchain = Blockchain()\n",
    "\n",
    "genesis = blockchain.chain[0]\n",
    "b = blockchain.generate_new_block()\n",
    "print(genesis.__dict__, \"\\n\\n\")\n",
    "print(b.__dict__)"
   ]
  },
  {
   "cell_type": "markdown",
   "metadata": {},
   "source": [
    "# trying out signatures"
   ]
  },
  {
   "cell_type": "code",
   "execution_count": 61,
   "metadata": {},
   "outputs": [],
   "source": [
    "from cryptography.hazmat.primitives.asymmetric import rsa\n",
    "from cryptography.hazmat.primitives import hashes\n",
    "from cryptography.hazmat.primitives.asymmetric import padding\n",
    "from cryptography.hazmat.primitives import serialization\n",
    "\n",
    "# waarom heb ik het gevoel dat het veel makkeljker dan dit kan\n",
    "\n",
    "def makeKeyPair():\n",
    "    private_key = rsa.generate_private_key(\n",
    "                    public_exponent=65537,\n",
    "                    key_size=512,\n",
    "                  )\n",
    "\n",
    "    public_key = private_key.public_key()\n",
    "\n",
    "    return private_key, public_key\n",
    "\n",
    "def signSomething(private_key, something):\n",
    "    signature = private_key.sign(\n",
    "        something,\n",
    "        padding.PSS(\n",
    "            mgf=padding.MGF1(hashes.SHA256()),\n",
    "            salt_length=padding.PSS.MAX_LENGTH\n",
    "        ),\n",
    "        hashes.SHA256()\n",
    "    )\n",
    "    \n",
    "    return signature\n",
    "\n",
    "def verifySomething(public_key, signature, something):\n",
    "    try:\n",
    "        public_key.verify(\n",
    "            signature,\n",
    "            something,\n",
    "            padding.PSS(\n",
    "                mgf=padding.MGF1(hashes.SHA256()),\n",
    "                salt_length=padding.PSS.MAX_LENGTH\n",
    "            ),\n",
    "            hashes.SHA256()\n",
    "        )\n",
    "    except:\n",
    "        print(\"Invalid Signature\")\n"
   ]
  },
  {
   "cell_type": "code",
   "execution_count": 62,
   "metadata": {},
   "outputs": [
    {
     "name": "stdout",
     "output_type": "stream",
     "text": [
      "Invalid Signature\n"
     ]
    }
   ],
   "source": [
    "# making the key pairs\n",
    "privkey, pubkey = makeKeyPair()\n",
    "privkey2, pubkey2 = makeKeyPair()\n",
    "\n",
    "# signing a message with the private key\n",
    "message = b\"A message I want to sign\"\n",
    "signature = signSomething(privkey2, message)\n",
    "\n",
    "# verifying it\n",
    "verifySomething(pubkey, signature, message)"
   ]
  },
  {
   "cell_type": "markdown",
   "metadata": {},
   "source": [
    "# trying out transactions"
   ]
  },
  {
   "cell_type": "code",
   "execution_count": 89,
   "metadata": {},
   "outputs": [],
   "source": [
    "from transaction import Transaction, TxIn, TxOut\n",
    "\n",
    "COINBASE_AMOUNT = 20\n",
    "\n",
    "bob_addr = \"bob123\"\n",
    "alice_addr = \"alice321\"\n",
    "bob_privkey, bob_pubkey = makeKeyPair()\n",
    "\n",
    "# Coinbase transaction to Bob\n",
    "coinbase_in = TxIn(\"\", 0, \"\")\n",
    "coinbase_out = TxOut(bob_addr, COINBASE_AMOUNT)\n",
    "coinbase_transaction = Transaction([coinbase_in], [coinbase_out])\n",
    "\n",
    "# Bob's gift to Alice\n",
    "bob_in = TxIn(coinbase_transaction.id, 0, \"\")\n",
    "bob_out1 = TxOut(alice_addr, 10)\n",
    "bob_out2 = TxOut(bob_addr, 10)\n",
    "bobs_gift_transaction = Transaction([bob_in], [bob_out1, bob_out2])\n",
    "\n",
    "unsignedTxIns = bobs_gift_transaction.txIns\n",
    "for uTxIn in unsignedTxIns:\n",
    "    signature = signSomething(bob_privkey, bobs_gift_transaction.id.encode())\n",
    "    uTxIn.signature = signature\n",
    "\n",
    "# Verifying that thing is signed\n"
   ]
  },
  {
   "cell_type": "code",
   "execution_count": 165,
   "metadata": {},
   "outputs": [
    {
     "name": "stdout",
     "output_type": "stream",
     "text": [
      "MFwwDQYJKoZIhvcNAQEBBQADSwAwSAJBANJITAWvGK94NuTl33bydUsEKxQlMATJEzduhuo+d9wR+PNiiz2SQeIorslQYCCE66l7JL8vmX00eugEn8bfQZcCAwEAAQ==\n"
     ]
    },
    {
     "data": {
      "text/plain": [
       "'3048024100d2484c05af18af7836e4e5df76f2754b042b14253004c913376e86ea3e77dc11f8f3628b3d9241e228aec950602084eba97b24bf2f997d347ae8049fc6df41970203010001'"
      ]
     },
     "execution_count": 165,
     "metadata": {},
     "output_type": "execute_result"
    }
   ],
   "source": [
    "# TODO\n",
    "# hoe sla ik keys op\n",
    "# wil de keys in string format hebben\n",
    "\n",
    "\n",
    "pem = bob_pubkey.public_bytes(\n",
    "        encoding=serialization.Encoding.PEM,\n",
    "        format=serialization.PublicFormat.SubjectPublicKeyInfo\n",
    "        )\n",
    "\n",
    "pub_key_bytes = pem.splitlines()[1:-1]\n",
    "pub_key_str = [x.decode() for x in pub_key_bytes] \n",
    "pub_key = \"\".join(pub_key_str)\n",
    "print(pub_key)\n",
    "\n",
    "pem2 = bob_pubkey.public_bytes(\n",
    "        encoding=serialization.Encoding.DER,\n",
    "        format=serialization.PublicFormat.PKCS1\n",
    "        )\n",
    "\n",
    "pem2.hex()"
   ]
  },
  {
   "cell_type": "code",
   "execution_count": 162,
   "metadata": {},
   "outputs": [
    {
     "data": {
      "text/plain": [
       "'3082025c02010002818100ad109696e40658d8054f625f67b24a3b963b760b1ca5a2b5d9b9d041b9fa538fcc860ef506de008b5209b7e28397891f3e5bb72daa2afe00c3713f5d557e8fffca4e2824de21247e42cd863ac97f51864d0ff66fbacf1bd4cf9003bc703a5189b9fd6f81ae50a040cfe6d531192c86fe8443a377b3a6a5e1f8af1bf183faf853020301000102818032f335424af34b689d7797807ae8d44de296b2d3e6a524d7e0b781863818684d676af8304ecb40e1c34f3521ac980a3876854dd255ccbe66bf2332026a4f0e5944d724d1617cdb4a64c1b693117ac4e35731b31577e48efe9afaaed4c89e73fb174b7b3f7e2b908f4ea06525c8fb325e21d4b00d3613ca278cbd9e9f729729f1024100b89de4c1143f749789f2a5cf52b12b4cc32ceef2af27fca614c6b152e47aba7dc6d5e93b5657f997d318a7a85dea783df839540e9f3fee3027c2fe497ddb0edd024100effb3bed0f23ac7620446c12831ed7ba446d263aa33af908a65605b39e040c000b5ff6021282b64757d493832eff90af593cf1a1858a680a404ede16303af8ef024071a31eef8a1b151542204dd7b3bac24059d30ab1ef06da0910b8cce58d25ce2d257afe393c08a2e5c55663bccb324c1938f570bc1f6226a715927d1b97908331024100d5389ebcf9079432fc666eb36006e65bdc72325645339f92dcdf6f7f70b55dc8285321ac23b039ae57ce4b26727aa59df6a6dc75cbc5f6bcacf8a60086e7cec70240199c0ca52e12bbd09e441503e06a7455290c24ba6237825fcd31b22d9bec29a8e2250e2c93086bb525e30d34b4b71dcae984008f57805c3073e0d8db31065130'"
      ]
     },
     "execution_count": 162,
     "metadata": {},
     "output_type": "execute_result"
    }
   ],
   "source": [
    "from Crypto.PublicKey import RSA\n",
    "key = RSA.generate(1024)\n",
    "\n",
    "thebinary = key.exportKey('DER')\n",
    "\n",
    "thebinary.hex()"
   ]
  }
 ],
 "metadata": {
  "interpreter": {
   "hash": "916dbcbb3f70747c44a77c7bcd40155683ae19c65e1c03b4aa3499c5328201f1"
  },
  "kernelspec": {
   "display_name": "Python 3.8.10 64-bit",
   "language": "python",
   "name": "python3"
  },
  "language_info": {
   "codemirror_mode": {
    "name": "ipython",
    "version": 3
   },
   "file_extension": ".py",
   "mimetype": "text/x-python",
   "name": "python",
   "nbconvert_exporter": "python",
   "pygments_lexer": "ipython3",
   "version": "3.8.10"
  },
  "orig_nbformat": 4
 },
 "nbformat": 4,
 "nbformat_minor": 2
}
