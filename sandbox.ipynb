{
 "cells": [
  {
   "cell_type": "code",
   "execution_count": 1,
   "metadata": {},
   "outputs": [
    {
     "name": "stdout",
     "output_type": "stream",
     "text": [
      "{'index': 0, 'hash': '0000607e58623c07e2634999e38638e13b76af5b450cd7a295bc60179e6db208', 'previous_hash': '', 'timestamp': 'inthebeninging', 'proof': 33} \n",
      "\n",
      "\n",
      "{'index': 1, 'hash': '0000ef765efc5694224dfd2b35ab6f59213cc641e5fa84b1d609de977d9acae7', 'previous_hash': '0000607e58623c07e2634999e38638e13b76af5b450cd7a295bc60179e6db208', 'timestamp': 1638823369.7528887, 'proof': 36807}\n"
     ]
    }
   ],
   "source": [
    "from blockchain import Blockchain, Block\n",
    "\n",
    "blockchain = Blockchain()\n",
    "\n",
    "genesis = blockchain.chain[0]\n",
    "b = blockchain.generate_new_block()\n",
    "print(genesis.__dict__, \"\\n\\n\")\n",
    "print(b.__dict__)"
   ]
  },
  {
   "cell_type": "markdown",
   "metadata": {},
   "source": [
    "# trying out transactions"
   ]
  },
  {
   "cell_type": "code",
   "execution_count": 21,
   "metadata": {},
   "outputs": [
    {
     "data": {
      "text/plain": [
       "{'txIns': [<transaction.TxIn at 0x7f7a5e8a5340>,\n",
       "  <transaction.TxIn at 0x7f7a5e8a54c0>,\n",
       "  <transaction.TxIn at 0x7f7a5e8a5550>],\n",
       " 'txOuts': [<transaction.TxOut at 0x7f7a5e8a5880>,\n",
       "  <transaction.TxOut at 0x7f7a5e8a5760>,\n",
       "  <transaction.TxOut at 0x7f7a5e8a5970>],\n",
       " 'id': '43c274a2dbc1325d84cc015dbddcfabe7a4b08b69bda9ec456adb94ce8e04b67'}"
      ]
     },
     "execution_count": 21,
     "metadata": {},
     "output_type": "execute_result"
    }
   ],
   "source": [
    "from transaction import Transaction, TxIn, TxOut\n",
    "\n",
    "txin1 = TxIn(\"a\", 1)\n",
    "txin2 = TxIn(\"b\", 2)\n",
    "txin3 = TxIn(\"c\", 3)\n",
    "\n",
    "txins = [txin1, txin2, txin3]\n",
    "\n",
    "txout1 = TxOut(\"d\", 10)\n",
    "txout2 = TxOut(\"g\", 15)\n",
    "txout3 = TxOut(\"f\", 12)\n",
    "\n",
    "txouts = [txout1, txout2, txout3]\n",
    "\n",
    "transaction = Transaction(txins, txouts)\n",
    "\n",
    "transaction.__dict__"
   ]
  }
 ],
 "metadata": {
  "interpreter": {
   "hash": "916dbcbb3f70747c44a77c7bcd40155683ae19c65e1c03b4aa3499c5328201f1"
  },
  "kernelspec": {
   "display_name": "Python 3.8.10 64-bit",
   "language": "python",
   "name": "python3"
  },
  "language_info": {
   "codemirror_mode": {
    "name": "ipython",
    "version": 3
   },
   "file_extension": ".py",
   "mimetype": "text/x-python",
   "name": "python",
   "nbconvert_exporter": "python",
   "pygments_lexer": "ipython3",
   "version": "3.8.10"
  },
  "orig_nbformat": 4
 },
 "nbformat": 4,
 "nbformat_minor": 2
}
