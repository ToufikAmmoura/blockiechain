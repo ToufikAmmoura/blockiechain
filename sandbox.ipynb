{
 "cells": [
  {
   "cell_type": "code",
   "execution_count": 1,
   "metadata": {},
   "outputs": [
    {
     "name": "stdout",
     "output_type": "stream",
     "text": [
      "{'index': 0, 'hash': '0000607e58623c07e2634999e38638e13b76af5b450cd7a295bc60179e6db208', 'previous_hash': '', 'timestamp': 'inthebeninging', 'proof': 33} \n",
      "\n",
      "\n",
      "{'index': 1, 'hash': '0000ef765efc5694224dfd2b35ab6f59213cc641e5fa84b1d609de977d9acae7', 'previous_hash': '0000607e58623c07e2634999e38638e13b76af5b450cd7a295bc60179e6db208', 'timestamp': 1638823369.7528887, 'proof': 36807}\n"
     ]
    }
   ],
   "source": [
    "from blockchain import Blockchain, Block\n",
    "\n",
    "blockchain = Blockchain()\n",
    "\n",
    "genesis = blockchain.chain[0]\n",
    "b = blockchain.generate_new_block()\n",
    "print(genesis.__dict__, \"\\n\\n\")\n",
    "print(b.__dict__)"
   ]
  },
  {
   "cell_type": "markdown",
   "metadata": {},
   "source": [
    "# trying out transactions"
   ]
  },
  {
   "cell_type": "code",
   "execution_count": 8,
   "metadata": {},
   "outputs": [
    {
     "data": {
      "text/plain": [
       "'a1b2c3'"
      ]
     },
     "execution_count": 8,
     "metadata": {},
     "output_type": "execute_result"
    }
   ],
   "source": [
    "class TxIn(object):\n",
    "    def __init__(self, txOutId, txOutIndex):\n",
    "        self.txOutId = txOutId\n",
    "        self.txOutIndex = txOutIndex\n",
    "        # voor nu is de signature even niet nodig\n",
    "        # self.signature = signature\n",
    "\n",
    "class TxOut(object):\n",
    "    def __init__(self, address, amount):\n",
    "        self.address = address\n",
    "        self.amount = amount\n",
    "\n",
    "txin1 = TxIn(\"a\", 1)\n",
    "txin2 = TxIn(\"b\", 2)\n",
    "txin3 = TxIn(\"c\", 3)\n",
    "\n",
    "txins = [txin1, txin2, txin3]\n",
    "\n",
    "\"\".join([x.txOutId + str(x.txOutIndex) for x in txins])"
   ]
  }
 ],
 "metadata": {
  "interpreter": {
   "hash": "916dbcbb3f70747c44a77c7bcd40155683ae19c65e1c03b4aa3499c5328201f1"
  },
  "kernelspec": {
   "display_name": "Python 3.8.10 64-bit",
   "language": "python",
   "name": "python3"
  },
  "language_info": {
   "codemirror_mode": {
    "name": "ipython",
    "version": 3
   },
   "file_extension": ".py",
   "mimetype": "text/x-python",
   "name": "python",
   "nbconvert_exporter": "python",
   "pygments_lexer": "ipython3",
   "version": "3.8.10"
  },
  "orig_nbformat": 4
 },
 "nbformat": 4,
 "nbformat_minor": 2
}
