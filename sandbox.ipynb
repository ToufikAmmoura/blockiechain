{
 "cells": [
  {
   "cell_type": "markdown",
   "metadata": {},
   "source": [
    "# python play"
   ]
  },
  {
   "cell_type": "code",
   "execution_count": 1,
   "metadata": {},
   "outputs": [
    {
     "name": "stdout",
     "output_type": "stream",
     "text": [
      "1 a\n",
      "2 a\n",
      "3 a\n",
      "4 a\n",
      "5 a\n"
     ]
    }
   ],
   "source": [
    "for x in [1,2,3,4,5]: # transactions\n",
    "    for y in \"abcde\": # txins\n",
    "        if y == \"b\":\n",
    "            break\n",
    "        print(x, y)"
   ]
  },
  {
   "cell_type": "markdown",
   "metadata": {},
   "source": [
    "# trying out signatures"
   ]
  },
  {
   "cell_type": "code",
   "execution_count": 2,
   "metadata": {},
   "outputs": [
    {
     "name": "stdout",
     "output_type": "stream",
     "text": [
      "The message is authentic.\n"
     ]
    },
    {
     "data": {
      "text/plain": [
       "EccKey(curve='NIST P-256', point_x=84909780357244496161981393799060568445037180437850959173362728121404803006270, point_y=49979488808253775045080323421559923784601969226309406488508769902697307619270)"
      ]
     },
     "execution_count": 2,
     "metadata": {},
     "output_type": "execute_result"
    }
   ],
   "source": [
    "from Crypto.PublicKey import ECC\n",
    "from Crypto.Hash import SHA256\n",
    "from Crypto.Signature import DSS\n",
    "\n",
    "def make_keypair():\n",
    "    privkey = ECC.generate(curve='P-256')\n",
    "    pubkey = privkey.public_key()\n",
    "    return privkey, pubkey \n",
    "\n",
    "def make_key(hex):\n",
    "    key = ECC.import_key(bytes.fromhex(hex))\n",
    "    return key\n",
    "\n",
    "def make_hex_key(key):\n",
    "    binary = key.public_key().export_key(format='DER')\n",
    "    return binary.hex()\n",
    "\n",
    "def sign_something(priv_key, something):\n",
    "    signer = DSS.new(priv_key, 'fips-186-3')\n",
    "    h = SHA256.new(something)\n",
    "    signature = signer.sign(h)\n",
    "    return signature.hex()\n",
    "\n",
    "def verify_signature(pub_key, something, signature):\n",
    "    h = SHA256.new(something)\n",
    "    verifier = DSS.new(pub_key, 'fips-186-3')\n",
    "    try:\n",
    "        verifier.verify(h, signature)\n",
    "        print (\"The message is authentic.\")\n",
    "    except ValueError:\n",
    "        print (\"The message is not authentic.\")\n",
    "\n",
    "priv_key, pub_key = make_keypair()\n",
    "priv_key2, pub_key2 = make_keypair()\n",
    "\n",
    "# print(pub_key)\n",
    "\n",
    "message = b'I accept this'\n",
    "signature = sign_something(priv_key, message)\n",
    "bitas = bytes.fromhex(signature)\n",
    "verify_signature(pub_key, message, bitas)\n",
    "\n",
    "hexkey = make_hex_key(pub_key)\n",
    "\n",
    "make_key(hexkey)\n",
    "\n",
    "priv_key.public_key()"
   ]
  },
  {
   "cell_type": "markdown",
   "metadata": {},
   "source": [
    "# trying out transactions"
   ]
  },
  {
   "cell_type": "code",
   "execution_count": 3,
   "metadata": {},
   "outputs": [
    {
     "name": "stdout",
     "output_type": "stream",
     "text": [
      "The message is authentic.\n"
     ]
    }
   ],
   "source": [
    "from transaction import Transaction, TxIn, TxOut\n",
    "\n",
    "COINBASE_AMOUNT = 20\n",
    "\n",
    "bob_addr = \"bob123\"\n",
    "alice_addr = \"alice321\"\n",
    "bob_privkey, bob_pubkey = make_keypair()\n",
    "\n",
    "# f = open('privatekey.der', 'wt')\n",
    "# f.write(bob_privkey.export_key(format='DER').hex())\n",
    "# f.close()\n",
    "\n",
    "# Coinbase transaction to Bob\n",
    "coinbase_in = TxIn(\"\", 0, \"\")\n",
    "coinbase_out = TxOut(bob_addr, COINBASE_AMOUNT)\n",
    "coinbase_transaction = Transaction([coinbase_in], [coinbase_out])\n",
    "\n",
    "# Bob's gift to Alice\n",
    "bob_in = TxIn(coinbase_transaction.id, 0, \"\")\n",
    "bob_out1 = TxOut(alice_addr, 10)\n",
    "bob_out2 = TxOut(bob_addr, 10)\n",
    "bobs_gift_transaction = Transaction([bob_in], [bob_out1, bob_out2])\n",
    "\n",
    "unsignedTxIns = bobs_gift_transaction.txins\n",
    "for uTxIn in unsignedTxIns:\n",
    "    signature = sign_something(bob_privkey, bobs_gift_transaction.id.encode())\n",
    "    uTxIn.signature = signature\n",
    "\n",
    "# Verifying that thing is signed\n",
    "signa = bytes.fromhex(unsignedTxIns[0].signature)\n",
    "verify_signature(bob_pubkey, bobs_gift_transaction.id.encode(), signa)"
   ]
  },
  {
   "cell_type": "markdown",
   "metadata": {},
   "source": [
    "# full-node toy model "
   ]
  },
  {
   "cell_type": "code",
   "execution_count": 5,
   "metadata": {},
   "outputs": [
    {
     "name": "stdout",
     "output_type": "stream",
     "text": [
      "wallet already exists\n"
     ]
    },
    {
     "data": {
      "text/plain": [
       "EccKey(curve='NIST P-256', point_x=78751158075622722828768602150341177141674699718105021827095074887314665369272, point_y=17863991188006476163937486212084310646861704467451798368889507225270856066180, d=104774712188689678462332036671138106001982490608801461724002014348531904996599)"
      ]
     },
     "execution_count": 5,
     "metadata": {},
     "output_type": "execute_result"
    }
   ],
   "source": [
    "from blockchain import *\n",
    "from transaction import *\n",
    "from wallet import *\n",
    "from transaction_pool import *\n",
    "\n",
    "# maak een wallet aan\n",
    "wallet_name = 'toufiks-wallet'\n",
    "init_wallet(wallet_name)\n",
    "priv_key = get_key_from_wallet(wallet_name)\n",
    "\n",
    "# maak de blockchain aan\n",
    "blockchain = Blockchain()\n",
    "\n"
   ]
  }
 ],
 "metadata": {
  "interpreter": {
   "hash": "916dbcbb3f70747c44a77c7bcd40155683ae19c65e1c03b4aa3499c5328201f1"
  },
  "kernelspec": {
   "display_name": "Python 3.8.10 64-bit",
   "language": "python",
   "name": "python3"
  },
  "language_info": {
   "codemirror_mode": {
    "name": "ipython",
    "version": 3
   },
   "file_extension": ".py",
   "mimetype": "text/x-python",
   "name": "python",
   "nbconvert_exporter": "python",
   "pygments_lexer": "ipython3",
   "version": "3.8.10"
  },
  "orig_nbformat": 4
 },
 "nbformat": 4,
 "nbformat_minor": 2
}
