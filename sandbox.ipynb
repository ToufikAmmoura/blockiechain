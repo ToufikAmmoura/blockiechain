{
 "cells": [
  {
   "cell_type": "code",
   "execution_count": null,
   "metadata": {},
   "outputs": [],
   "source": [
    "from blockchain import Blockchain, Block\n",
    "\n",
    "blockchain = Blockchain()\n",
    "\n",
    "genesis = blockchain.chain[0]\n",
    "b = blockchain.generate_new_block()\n",
    "print(genesis.__dict__, \"\\n\\n\")\n",
    "print(b.__dict__)"
   ]
  },
  {
   "cell_type": "markdown",
   "metadata": {},
   "source": [
    "# trying out signatures"
   ]
  },
  {
   "cell_type": "code",
   "execution_count": null,
   "metadata": {},
   "outputs": [],
   "source": [
    "from cryptography.hazmat.primitives.asymmetric import rsa\n",
    "from cryptography.hazmat.primitives import hashes\n",
    "from cryptography.hazmat.primitives.asymmetric import padding\n",
    "\n",
    "# waarom heb ik het gevoel dat het veel makkeljker dan dit kan\n",
    "\n",
    "def makeKeyPair():\n",
    "    private_key = rsa.generate_private_key(\n",
    "                    public_exponent=65537,\n",
    "                    key_size=2048,\n",
    "                  )\n",
    "\n",
    "    public_key = private_key.public_key()\n",
    "\n",
    "    return private_key, public_key\n",
    "\n",
    "def signSomething(private_key, something):\n",
    "    signature = private_key.sign(\n",
    "        something,\n",
    "        padding.PSS(\n",
    "            mgf=padding.MGF1(hashes.SHA256()),\n",
    "            salt_length=padding.PSS.MAX_LENGTH\n",
    "        ),\n",
    "        hashes.SHA256()\n",
    "    )\n",
    "    \n",
    "    return signature\n",
    "\n",
    "def verifySomething(public_key, signature, something):\n",
    "    try:\n",
    "        public_key.verify(\n",
    "            signature,\n",
    "            something,\n",
    "            padding.PSS(\n",
    "                mgf=padding.MGF1(hashes.SHA256()),\n",
    "                salt_length=padding.PSS.MAX_LENGTH\n",
    "            ),\n",
    "            hashes.SHA256()\n",
    "        )\n",
    "    except:\n",
    "        print(\"Invalid Signature\")\n"
   ]
  },
  {
   "cell_type": "code",
   "execution_count": null,
   "metadata": {},
   "outputs": [],
   "source": [
    "# making the key pairs\n",
    "privkey, pubkey = makeKeyPair()\n",
    "privkey2, pubkey2 = makeKeyPair()\n",
    "\n",
    "# signing a message with the private key\n",
    "message = b\"A message I want to sign\"\n",
    "signature = signSomething(privkey2, message)\n",
    "\n",
    "# verifying it\n",
    "verifySomething(pubkey, signature, message)"
   ]
  },
  {
   "cell_type": "markdown",
   "metadata": {},
   "source": [
    "# trying out transactions"
   ]
  },
  {
   "cell_type": "code",
   "execution_count": 7,
   "metadata": {},
   "outputs": [
    {
     "data": {
      "text/plain": [
       "{'txIns': [<transaction.TxIn at 0x7f72c78d2d30>],\n",
       " 'txOuts': [<transaction.TxOut at 0x7f72c78d2e80>,\n",
       "  <transaction.TxOut at 0x7f72c78d2ca0>],\n",
       " 'id': 'ab5a1857616aa848ae341a44c0a3b8c22892c6aee4171177695af5b103ee20b7'}"
      ]
     },
     "execution_count": 7,
     "metadata": {},
     "output_type": "execute_result"
    }
   ],
   "source": [
    "from transaction import Transaction, TxIn, TxOut\n",
    "\n",
    "COINBASE_AMOUNT = 20\n",
    "\n",
    "bob_addr = \"bob123\"\n",
    "alice_addr = \"alice321\"\n",
    "\n",
    "# Coinbase transaction to Bob\n",
    "coinbase_in = TxIn(\"\", 0, \"\")\n",
    "coinbase_out = TxOut(bob_addr, COINBASE_AMOUNT)\n",
    "coinbase_transaction = Transaction([coinbase_in], [coinbase_out])\n",
    "\n",
    "# Bob's gift to Alice\n",
    "bob_in = TxIn(coinbase_transaction.id, 0, \"signature\")\n",
    "bob_out1 = TxOut(alice_addr, 10)\n",
    "bob_out2 = TxOut(bob_addr, 10)\n",
    "bobs_gift_transaction = Transaction([bob_in], [bob_out1, bob_out2])\n",
    "\n",
    "bobs_gift_transaction.__dict__"
   ]
  }
 ],
 "metadata": {
  "interpreter": {
   "hash": "916dbcbb3f70747c44a77c7bcd40155683ae19c65e1c03b4aa3499c5328201f1"
  },
  "kernelspec": {
   "display_name": "Python 3.8.10 64-bit",
   "language": "python",
   "name": "python3"
  },
  "language_info": {
   "codemirror_mode": {
    "name": "ipython",
    "version": 3
   },
   "file_extension": ".py",
   "mimetype": "text/x-python",
   "name": "python",
   "nbconvert_exporter": "python",
   "pygments_lexer": "ipython3",
   "version": "3.8.10"
  },
  "orig_nbformat": 4
 },
 "nbformat": 4,
 "nbformat_minor": 2
}
