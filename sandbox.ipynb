{
 "cells": [
  {
   "cell_type": "markdown",
   "metadata": {},
   "source": [
    "# trying out signatures"
   ]
  },
  {
   "cell_type": "code",
   "execution_count": 13,
   "metadata": {},
   "outputs": [
    {
     "name": "stdout",
     "output_type": "stream",
     "text": [
      "The message is authentic.\n"
     ]
    },
    {
     "data": {
      "text/plain": [
       "EccKey(curve='NIST P-256', point_x=3085769700740607548571937129489161199975423117044086416704746571359204352775, point_y=114820690134230468518708106174253651445705435818183061891494980877268283905880)"
      ]
     },
     "execution_count": 13,
     "metadata": {},
     "output_type": "execute_result"
    }
   ],
   "source": [
    "from Crypto.PublicKey import ECC\n",
    "from Crypto.Hash import SHA256\n",
    "from Crypto.Signature import DSS\n",
    "\n",
    "def make_keypair():\n",
    "    privkey = ECC.generate(curve='P-256')\n",
    "    pubkey = privkey.public_key()\n",
    "    return privkey, pubkey \n",
    "\n",
    "def make_key(hex):\n",
    "    key = ECC.import_key(bytes.fromhex(hex))\n",
    "    return key\n",
    "\n",
    "def make_hex_key(key):\n",
    "    binary = key.public_key().export_key(format='DER')\n",
    "    return binary.hex()\n",
    "\n",
    "def sign_something(priv_key, something):\n",
    "    signer = DSS.new(priv_key, 'fips-186-3')\n",
    "    h = SHA256.new(something)\n",
    "    signature = signer.sign(h)\n",
    "    return signature.hex()\n",
    "\n",
    "def verify_signature(pub_key, something, signature):\n",
    "    h = SHA256.new(something)\n",
    "    verifier = DSS.new(pub_key, 'fips-186-3')\n",
    "    try:\n",
    "        verifier.verify(h, signature)\n",
    "        print (\"The message is authentic.\")\n",
    "    except ValueError:\n",
    "        print (\"The message is not authentic.\")\n",
    "\n",
    "priv_key, pub_key = make_keypair()\n",
    "priv_key2, pub_key2 = make_keypair()\n",
    "\n",
    "# print(pub_key)\n",
    "\n",
    "message = b'I accept this'\n",
    "signature = sign_something(priv_key, message)\n",
    "bitas = bytes.fromhex(signature)\n",
    "verify_signature(pub_key, message, bitas)\n",
    "\n",
    "hexkey = make_hex_key(pub_key)\n",
    "\n",
    "make_key(hexkey)\n",
    "\n",
    "priv_key.public_key()"
   ]
  },
  {
   "cell_type": "markdown",
   "metadata": {},
   "source": [
    "# trying out transactions"
   ]
  },
  {
   "cell_type": "code",
   "execution_count": 14,
   "metadata": {},
   "outputs": [
    {
     "name": "stdout",
     "output_type": "stream",
     "text": [
      "The message is authentic.\n"
     ]
    }
   ],
   "source": [
    "from transaction import Transaction, TxIn, TxOut\n",
    "\n",
    "COINBASE_AMOUNT = 20\n",
    "\n",
    "bob_addr = \"bob123\"\n",
    "alice_addr = \"alice321\"\n",
    "bob_privkey, bob_pubkey = make_keypair()\n",
    "\n",
    "# f = open('privatekey.der', 'wt')\n",
    "# f.write(bob_privkey.export_key(format='DER').hex())\n",
    "# f.close()\n",
    "\n",
    "# Coinbase transaction to Bob\n",
    "coinbase_in = TxIn(\"\", 0, \"\")\n",
    "coinbase_out = TxOut(bob_addr, COINBASE_AMOUNT)\n",
    "coinbase_transaction = Transaction([coinbase_in], [coinbase_out])\n",
    "\n",
    "# Bob's gift to Alice\n",
    "bob_in = TxIn(coinbase_transaction.id, 0, \"\")\n",
    "bob_out1 = TxOut(alice_addr, 10)\n",
    "bob_out2 = TxOut(bob_addr, 10)\n",
    "bobs_gift_transaction = Transaction([bob_in], [bob_out1, bob_out2])\n",
    "\n",
    "unsignedTxIns = bobs_gift_transaction.txins\n",
    "for uTxIn in unsignedTxIns:\n",
    "    signature = sign_something(bob_privkey, bobs_gift_transaction.id.encode())\n",
    "    uTxIn.signature = signature\n",
    "\n",
    "# Verifying that thing is signed\n",
    "signa = bytes.fromhex(unsignedTxIns[0].signature)\n",
    "verify_signature(bob_pubkey, bobs_gift_transaction.id.encode(), signa)"
   ]
  },
  {
   "cell_type": "markdown",
   "metadata": {},
   "source": [
    "# full-node toy model"
   ]
  },
  {
   "cell_type": "code",
   "execution_count": 15,
   "metadata": {},
   "outputs": [
    {
     "name": "stdout",
     "output_type": "stream",
     "text": [
      "wallet already exists\n",
      "wallet already exists\n",
      "\n",
      "address toufik:  3059301306072a8648ce3d020106082a8648ce3d03010703420004ae1b936f141d4b37355897e82f86afe219e0c2dce78f040954a9ace5d6cbeeb8277ea923e75f1ed234b22286d43c9134689f53a90662465b531436adf0be2484 \n",
      "\n",
      "address bob:  3059301306072a8648ce3d020106082a8648ce3d03010703420004913c01860019da0919211e4383a0b3dd2a11e93f49f8b51f22bb484ddbce4ed630ea25b9ddd14d285de325420a3a04c5f41db23765c6621a258dd3867b4b3e3f\n"
     ]
    }
   ],
   "source": [
    "from blockchain import *\n",
    "from transaction import *\n",
    "from wallet import *\n",
    "from transaction_pool import *\n",
    "\n",
    "# maak mijn wallet aan\n",
    "toufik_wallet = 'toufiks-wallet'\n",
    "init_wallet(toufik_wallet)\n",
    "tfk_priv_key = get_key_from_wallet(toufik_wallet)\n",
    "tfk_pub_key = tfk_priv_key.public_key()\n",
    "tfk_address = get_hex_from_key(tfk_pub_key)\n",
    "\n",
    "# maak een wallet aan voor Bob\n",
    "bob_wallet = 'bobs-wallet'\n",
    "init_wallet(bob_wallet)\n",
    "bob_priv_key = get_key_from_wallet(bob_wallet)\n",
    "bob_pub_key = bob_priv_key.public_key()\n",
    "bob_address = get_hex_from_key(bob_pub_key)\n",
    "\n",
    "print(\"\\naddress toufik: \", tfk_address, '\\n')\n",
    "print(\"address bob: \", bob_address)"
   ]
  },
  {
   "cell_type": "code",
   "execution_count": 16,
   "metadata": {},
   "outputs": [
    {
     "name": "stdout",
     "output_type": "stream",
     "text": [
      "51\n",
      "99\n"
     ]
    }
   ],
   "source": [
    "# create the genesis transaction\n",
    "genesis_in = TxIn(txout_id=\"\", txout_index=0, signature=\"\")\n",
    "address = \"3059301306072a8648ce3d020106082a8648ce3d0301070342000447e45d57be90ac1ad97c5232f7922ade8e63f9931666f1fab5f1bcaac0bdc4b83bf68c72534eb33b68865b5e5465c7ba46094961b578513aed09ed22ab8c03f3\"\n",
    "genesis_out = TxOut(address=address, amount=50)\n",
    "genesis_transaction = Transaction(txins=[genesis_in], txouts=[genesis_out])\n",
    "\n",
    "# create the genesis block\n",
    "genesis_hash = \"0000607e58623c07e2634999e38638e13b76af5b450cd7a295bc60179e6db208\"\n",
    "genesis_block = Block(index=0, hash=genesis_hash, previous_hash=\"\", timestamp=\"inthebeninging\", proof=33, data=[genesis_transaction])\n",
    "\n",
    "# maak de blockchain aan\n",
    "blockchain = Blockchain(genesis_block)\n",
    "\n",
    "# maak de transaction pool aan (voor nu even niks bijzonders)\n",
    "tx_pool = []\n",
    "\n",
    "# maak de unspent transactions list\n",
    "unspent_txouts = process_transactions(blockchain.chain[0].data, [], 0)\n",
    "\n",
    "# mine een block\n",
    "coinbase = get_coinbase_transaction(tfk_address, len(blockchain.chain))\n",
    "transactions = [coinbase]\n",
    "block = blockchain.generate_new_block(transactions)\n",
    "blockchain.chain.append(block)\n",
    "\n",
    "# update de unspent transactions list\n",
    "unspent_txouts = process_transactions(blockchain.chain[1].data, unspent_txouts, 1)\n",
    "\n",
    "# mine een block\n",
    "coinbase = get_coinbase_transaction(tfk_address, len(blockchain.chain))\n",
    "transactions = [coinbase]\n",
    "block = blockchain.generate_new_block(transactions)\n",
    "blockchain.chain.append(block)\n",
    "\n",
    "# update de unspent transactions list\n",
    "unspent_txouts = process_transactions(blockchain.chain[2].data, unspent_txouts, 2)\n",
    "\n",
    "# maak een transaction\n",
    "my_gift_to_bob = create_transaction(bob_address, 51, tfk_priv_key, unspent_txouts, [])\n",
    "\n",
    "if my_gift_to_bob is not None:\n",
    "    # mine een block\n",
    "    coinbase = get_coinbase_transaction(tfk_address, len(blockchain.chain))\n",
    "    transactions = [coinbase, my_gift_to_bob]\n",
    "    block = blockchain.generate_new_block(transactions)\n",
    "    blockchain.chain.append(block)\n",
    "\n",
    "    # update de unspent transactions list\n",
    "    unspent_txouts = process_transactions(blockchain.chain[3].data, unspent_txouts, 3)\n",
    "\n",
    "    print(get_balance(bob_address, unspent_txouts))\n",
    "    print(get_balance(tfk_address, unspent_txouts))    "
   ]
  }
 ],
 "metadata": {
  "interpreter": {
   "hash": "916dbcbb3f70747c44a77c7bcd40155683ae19c65e1c03b4aa3499c5328201f1"
  },
  "kernelspec": {
   "display_name": "Python 3.8.10 64-bit",
   "language": "python",
   "name": "python3"
  },
  "language_info": {
   "codemirror_mode": {
    "name": "ipython",
    "version": 3
   },
   "file_extension": ".py",
   "mimetype": "text/x-python",
   "name": "python",
   "nbconvert_exporter": "python",
   "pygments_lexer": "ipython3",
   "version": "3.8.10"
  },
  "orig_nbformat": 4
 },
 "nbformat": 4,
 "nbformat_minor": 2
}
